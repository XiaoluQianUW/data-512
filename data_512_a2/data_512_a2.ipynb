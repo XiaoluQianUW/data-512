{
 "cells": [
  {
   "cell_type": "markdown",
   "metadata": {},
   "source": [
    "# A2: Bias in the Data\n",
    "Xiaolu Qian <br>\n",
    "In this notebook, "
   ]
  },
  {
   "cell_type": "code",
   "execution_count": 1,
   "metadata": {},
   "outputs": [],
   "source": [
    "import pandas as pd\n",
    "import numpy as np\n",
    "import matplotlib.pyplot as plt\n",
    "import seaborn as sns\n",
    "%matplotlib inline"
   ]
  },
  {
   "cell_type": "markdown",
   "metadata": {},
   "source": [
    "## Step 0: Background and EDA\n",
    "In this session, I will walk you through some visualizations and distributions for the demographic information of crowdflower workers who labeled toxicity and aggression. Those simple EDA helped me to think about the bias in data problem that I want to solve. "
   ]
  },
  {
   "cell_type": "markdown",
   "metadata": {},
   "source": [
    "Load the data related to toxicity and aggression"
   ]
  },
  {
   "cell_type": "code",
   "execution_count": 31,
   "metadata": {},
   "outputs": [],
   "source": [
    "# data for toxicity \n",
    "demographic_worker = pd.read_csv('toxicity_data/toxicity_worker_demographics.tsv',  sep = '\\t')\n",
    "annotated_comments = pd.read_csv('toxicity_data/toxicity_annotated_comments.tsv',  sep = '\\t')\n",
    "annotations = pd.read_csv('toxicity_data/toxicity_annotations.tsv',  sep = '\\t')\n",
    "\n",
    "# data for aggression\n",
    "demographic_worker_agg = pd.read_csv('~/Desktop/aggression_data/aggression_worker_demographics.tsv',  sep = '\\t')\n",
    "annotated_comments_agg = pd.read_csv('~/Desktop/aggression_data/aggression_annotated_comments.tsv',  sep = '\\t')\n",
    "annotations_agg = pd.read_csv('~/Desktop/aggression_data/aggression_annotations.tsv',  sep = '\\t')"
   ]
  },
  {
   "cell_type": "markdown",
   "metadata": {},
   "source": [
    "Show percentage of the gender distribution of the workers who labeled toxicity "
   ]
  },
  {
   "cell_type": "code",
   "execution_count": 35,
   "metadata": {},
   "outputs": [
    {
     "data": {
      "text/plain": [
       "male      0.648009\n",
       "female    0.351713\n",
       "other     0.000278\n",
       "Name: gender, dtype: float64"
      ]
     },
     "execution_count": 35,
     "metadata": {},
     "output_type": "execute_result"
    }
   ],
   "source": [
    "demographic_worker.gender.value_counts('female')"
   ]
  },
  {
   "cell_type": "markdown",
   "metadata": {},
   "source": [
    "Show percentage of the gender distribution of the workers who labeled aggression"
   ]
  },
  {
   "cell_type": "code",
   "execution_count": 100,
   "metadata": {},
   "outputs": [
    {
     "data": {
      "text/plain": [
       "male      0.615982\n",
       "female    0.383562\n",
       "other     0.000457\n",
       "Name: gender, dtype: float64"
      ]
     },
     "execution_count": 100,
     "metadata": {},
     "output_type": "execute_result"
    }
   ],
   "source": [
    "demographic_worker_agg.gender.value_counts('female')"
   ]
  },
  {
   "cell_type": "markdown",
   "metadata": {},
   "source": [
    "Show the count of workers in each gender for toxicity"
   ]
  },
  {
   "cell_type": "code",
   "execution_count": 102,
   "metadata": {},
   "outputs": [
    {
     "data": {
      "text/plain": [
       "<matplotlib.axes._subplots.AxesSubplot at 0x7fbb0285bc40>"
      ]
     },
     "execution_count": 102,
     "metadata": {},
     "output_type": "execute_result"
    },
    {
     "data": {
      "image/png": "[encoded data removed]",
      "text/plain": [
       "<Figure size 720x432 with 1 Axes>"
      ]
     },
     "metadata": {},
     "output_type": "display_data"
    }
   ],
   "source": [
    "sns.set(rc={'figure.figsize':(10,6)})\n",
    "sns.countplot(x=\"gender\", hue=\"gender\", data=demographic_worker)"
   ]
  },
  {
   "cell_type": "markdown",
   "metadata": {},
   "source": [
    "Show percentage of the age group distribution of the workers for toxicity through visualization "
   ]
  },
  {
   "cell_type": "code",
   "execution_count": 104,
   "metadata": {},
   "outputs": [
    {
     "data": {
      "text/plain": [
       "18-30       52.988048\n",
       "30-45       35.486625\n",
       "45-60        8.423449\n",
       "Under 18     2.248150\n",
       "Over 60      0.853728\n",
       "Name: age_group, dtype: float64"
      ]
     },
     "execution_count": 104,
     "metadata": {},
     "output_type": "execute_result"
    }
   ],
   "source": [
    "df= demographic_worker.age_group.value_counts('age_group')*100\n",
    "worker_age_df = pd.DataFrame({'age_group':df.index, 'proportion':df.values})\n",
    "df"
   ]
  },
  {
   "cell_type": "code",
   "execution_count": 43,
   "metadata": {
    "scrolled": false
   },
   "outputs": [
    {
     "data": {
      "text/plain": [
       "<matplotlib.axes._subplots.AxesSubplot at 0x7fbb104183d0>"
      ]
     },
     "execution_count": 43,
     "metadata": {},
     "output_type": "execute_result"
    },
    {
     "data": {
      "image/png": "[encoded data removed]",
      "text/plain": [
       "<Figure size 720x432 with 1 Axes>"
      ]
     },
     "metadata": {},
     "output_type": "display_data"
    }
   ],
   "source": [
    "sns.set(rc={'figure.figsize':(10,6)})\n",
    "sns.barplot(x=\"age_group\", y = \"proportion\", hue=\"age_group\", data=worker_age_df, \n",
    "            hue_order = ['Under 18','18-30', '30-45', '45-60', 'Over 60'],\n",
    "            order = ['Under 18','18-30', '30-45', '45-60', 'Over 60'])"
   ]
  },
  {
   "cell_type": "markdown",
   "metadata": {},
   "source": [
    "Show percentage of the age-bucket distribution of the workers who labeled aggression"
   ]
  },
  {
   "cell_type": "code",
   "execution_count": 106,
   "metadata": {},
   "outputs": [
    {
     "data": {
      "text/plain": [
       "18-30       48.677494\n",
       "30-45       38.561485\n",
       "45-60       10.116009\n",
       "Under 18     1.716937\n",
       "Over 60      0.928074\n",
       "Name: age_group, dtype: float64"
      ]
     },
     "execution_count": 106,
     "metadata": {},
     "output_type": "execute_result"
    }
   ],
   "source": [
    "agg_df= demographic_worker_agg.age_group.value_counts('age_group')*100\n",
    "worker_age_df_agg = pd.DataFrame({'age_group':agg_df.index, 'proportion':agg_df.values})\n",
    "agg_df"
   ]
  },
  {
   "cell_type": "markdown",
   "metadata": {},
   "source": [
    "## Step 1: Analysis\n",
    "There are two anlysis that I would like to do. First, I want to furthur analyze the demographic information about the Crowdflower workers that is available in the dataset and answering the questions as the follwoing: How well does the demographic profile of the crowdworkers match that of the general population? What are some potential consequences of skewed labeller demographic distribution on the behavior of a model trained on this dataset? \n",
    "\n",
    "The second analysis I want to do is to explore relationships between worker demographics and labeling behavior. I would like to answer the questions as the following: Are female-identified labelers more or less likely to label comments as aggressive than male-identified labelers? If the labelling behaviors are different, what are some possible causes and consequences of this difference?\n",
    "\n",
    "I will be using both the toxicity data and the aggression data for my analysis here. "
   ]
  },
  {
   "cell_type": "markdown",
   "metadata": {},
   "source": [
    "### Analysis 1"
   ]
  },
  {
   "cell_type": "markdown",
   "metadata": {},
   "source": [
    "In the first analysis, I would like to compare the demographic information about the crowflower workers who labeled the toxicity data and aggression data with the demographic information of the general population. Here are the overview of the steps I took: \n",
    "\n",
    "- Find the gender distribution data and the age distribution information of the general population from UN's data \n",
    "- Choose the year 2015 since the age and gender distribution stays fairly constant in a range of years\n",
    "- Perform data manipulation to compare the demographic information of the general public with the crowflowers'"
   ]
  },
  {
   "cell_type": "markdown",
   "metadata": {},
   "source": [
    "Load the age distribution data download from UN's website"
   ]
  },
  {
   "cell_type": "code",
   "execution_count": 112,
   "metadata": {},
   "outputs": [],
   "source": [
    "xls = pd.ExcelFile('PopulationAgeSex-20201019065126.xlsx')\n",
    "population_age_df = pd.read_excel(xls, 'Data')"
   ]
  },
  {
   "cell_type": "markdown",
   "metadata": {},
   "source": [
    "Perform data manipulation to be able to match with the age-bucket in our crowdflower workers' data. "
   ]
  },
  {
   "cell_type": "code",
   "execution_count": 113,
   "metadata": {
    "scrolled": false
   },
   "outputs": [
    {
     "data": {
      "text/html": [
       "<div>\n",
       "<style scoped>\n",
       "    .dataframe tbody tr th:only-of-type {\n",
       "        vertical-align: middle;\n",
       "    }\n",
       "\n",
       "    .dataframe tbody tr th {\n",
       "        vertical-align: top;\n",
       "    }\n",
       "\n",
       "    .dataframe thead th {\n",
       "        text-align: right;\n",
       "    }\n",
       "</style>\n",
       "<table border=\"1\" class=\"dataframe\">\n",
       "  <thead>\n",
       "    <tr style=\"text-align: right;\">\n",
       "      <th></th>\n",
       "      <th>age_group</th>\n",
       "      <th>population</th>\n",
       "      <th>age_group_population</th>\n",
       "    </tr>\n",
       "  </thead>\n",
       "  <tbody>\n",
       "    <tr>\n",
       "      <th>0</th>\n",
       "      <td>0-4</td>\n",
       "      <td>670674</td>\n",
       "      <td>Under 18</td>\n",
       "    </tr>\n",
       "    <tr>\n",
       "      <th>1</th>\n",
       "      <td>5-9</td>\n",
       "      <td>644706</td>\n",
       "      <td>Under 18</td>\n",
       "    </tr>\n",
       "    <tr>\n",
       "      <th>2</th>\n",
       "      <td>10-14</td>\n",
       "      <td>615946</td>\n",
       "      <td>Under 18</td>\n",
       "    </tr>\n",
       "    <tr>\n",
       "      <th>3</th>\n",
       "      <td>15-19</td>\n",
       "      <td>601644</td>\n",
       "      <td>Under 18</td>\n",
       "    </tr>\n",
       "    <tr>\n",
       "      <th>4</th>\n",
       "      <td>20-24</td>\n",
       "      <td>597563</td>\n",
       "      <td>18-30</td>\n",
       "    </tr>\n",
       "    <tr>\n",
       "      <th>5</th>\n",
       "      <td>25-29</td>\n",
       "      <td>609086</td>\n",
       "      <td>18-30</td>\n",
       "    </tr>\n",
       "    <tr>\n",
       "      <th>6</th>\n",
       "      <td>30-34</td>\n",
       "      <td>550414</td>\n",
       "      <td>30-45</td>\n",
       "    </tr>\n",
       "    <tr>\n",
       "      <th>7</th>\n",
       "      <td>35-39</td>\n",
       "      <td>500480</td>\n",
       "      <td>30-45</td>\n",
       "    </tr>\n",
       "    <tr>\n",
       "      <th>8</th>\n",
       "      <td>40-44</td>\n",
       "      <td>487733</td>\n",
       "      <td>30-45</td>\n",
       "    </tr>\n",
       "    <tr>\n",
       "      <th>9</th>\n",
       "      <td>45-49</td>\n",
       "      <td>456777</td>\n",
       "      <td>45-60</td>\n",
       "    </tr>\n",
       "    <tr>\n",
       "      <th>10</th>\n",
       "      <td>50-54</td>\n",
       "      <td>402233</td>\n",
       "      <td>45-60</td>\n",
       "    </tr>\n",
       "    <tr>\n",
       "      <th>11</th>\n",
       "      <td>55-59</td>\n",
       "      <td>340945</td>\n",
       "      <td>45-60</td>\n",
       "    </tr>\n",
       "    <tr>\n",
       "      <th>12</th>\n",
       "      <td>60-64</td>\n",
       "      <td>294050</td>\n",
       "      <td>Over 60</td>\n",
       "    </tr>\n",
       "    <tr>\n",
       "      <th>13</th>\n",
       "      <td>65-69</td>\n",
       "      <td>216166</td>\n",
       "      <td>Over 60</td>\n",
       "    </tr>\n",
       "    <tr>\n",
       "      <th>14</th>\n",
       "      <td>70-74</td>\n",
       "      <td>153429</td>\n",
       "      <td>Over 60</td>\n",
       "    </tr>\n",
       "    <tr>\n",
       "      <th>15</th>\n",
       "      <td>75-79</td>\n",
       "      <td>114720</td>\n",
       "      <td>Over 60</td>\n",
       "    </tr>\n",
       "    <tr>\n",
       "      <th>16</th>\n",
       "      <td>80-84</td>\n",
       "      <td>70755</td>\n",
       "      <td>Over 60</td>\n",
       "    </tr>\n",
       "    <tr>\n",
       "      <th>17</th>\n",
       "      <td>85-89</td>\n",
       "      <td>36351</td>\n",
       "      <td>Over 60</td>\n",
       "    </tr>\n",
       "    <tr>\n",
       "      <th>18</th>\n",
       "      <td>90-94</td>\n",
       "      <td>12920</td>\n",
       "      <td>Over 60</td>\n",
       "    </tr>\n",
       "    <tr>\n",
       "      <th>19</th>\n",
       "      <td>95-99</td>\n",
       "      <td>2790</td>\n",
       "      <td>Over 60</td>\n",
       "    </tr>\n",
       "    <tr>\n",
       "      <th>20</th>\n",
       "      <td>100+</td>\n",
       "      <td>417</td>\n",
       "      <td>Over 60</td>\n",
       "    </tr>\n",
       "  </tbody>\n",
       "</table>\n",
       "</div>"
      ],
      "text/plain": [
       "   age_group  population age_group_population\n",
       "0        0-4      670674             Under 18\n",
       "1        5-9      644706             Under 18\n",
       "2      10-14      615946             Under 18\n",
       "3      15-19      601644             Under 18\n",
       "4      20-24      597563                18-30\n",
       "5      25-29      609086                18-30\n",
       "6      30-34      550414                30-45\n",
       "7      35-39      500480                30-45\n",
       "8      40-44      487733                30-45\n",
       "9      45-49      456777                45-60\n",
       "10     50-54      402233                45-60\n",
       "11     55-59      340945                45-60\n",
       "12     60-64      294050              Over 60\n",
       "13     65-69      216166              Over 60\n",
       "14     70-74      153429              Over 60\n",
       "15     75-79      114720              Over 60\n",
       "16     80-84       70755              Over 60\n",
       "17     85-89       36351              Over 60\n",
       "18     90-94       12920              Over 60\n",
       "19     95-99        2790              Over 60\n",
       "20      100+         417              Over 60"
      ]
     },
     "execution_count": 113,
     "metadata": {},
     "output_type": "execute_result"
    }
   ],
   "source": [
    "population_age_df = population_age_df.iloc[[13]]\n",
    "population_age_df = population_age_df.drop(columns=['ISO 3166-1 numeric code', 'Location', 'Time', 'Sex'])\n",
    "population_age_df = pd.melt(population_age_df, var_name='age_group', value_name='population')\n",
    "\n",
    "\n",
    "# define new age group for the UN data\n",
    "age_group_population = ['Under 18', 'Under 18', 'Under 18', 'Under 18',\n",
    "                       '18-30', '18-30', '30-45', '30-45', '30-45', \n",
    "                       '45-60', '45-60','45-60',\n",
    "                       'Over 60', 'Over 60', 'Over 60', 'Over 60', 'Over 60', 'Over 60', 'Over 60', 'Over 60', 'Over 60'] \n",
    "\n",
    "population_age_df['age_group_population'] = age_group_population\n",
    "population_age_df"
   ]
  },
  {
   "cell_type": "code",
   "execution_count": 114,
   "metadata": {},
   "outputs": [],
   "source": [
    "# drop the unused column\n",
    "new_population_age_df = population_age_df.drop(columns = ['age_group'])"
   ]
  },
  {
   "cell_type": "code",
   "execution_count": 115,
   "metadata": {
    "scrolled": true
   },
   "outputs": [
    {
     "data": {
      "text/plain": [
       "age_group_population\n",
       "18-30       16.350703\n",
       "30-45       20.849172\n",
       "45-60       16.259996\n",
       "Over 60     12.217108\n",
       "Under 18    34.323022\n",
       "Name: population, dtype: float64"
      ]
     },
     "execution_count": 115,
     "metadata": {},
     "output_type": "execute_result"
    }
   ],
   "source": [
    "# calculate the distribution of propotion of each age group \n",
    "world_demographic = new_population_age_df.groupby('age_group_population').agg('sum')['population']/new_population_age_df.sum()['population']*100\n",
    "world_demographic"
   ]
  },
  {
   "cell_type": "code",
   "execution_count": 116,
   "metadata": {},
   "outputs": [
    {
     "data": {
      "text/html": [
       "<div>\n",
       "<style scoped>\n",
       "    .dataframe tbody tr th:only-of-type {\n",
       "        vertical-align: middle;\n",
       "    }\n",
       "\n",
       "    .dataframe tbody tr th {\n",
       "        vertical-align: top;\n",
       "    }\n",
       "\n",
       "    .dataframe thead th {\n",
       "        text-align: right;\n",
       "    }\n",
       "</style>\n",
       "<table border=\"1\" class=\"dataframe\">\n",
       "  <thead>\n",
       "    <tr style=\"text-align: right;\">\n",
       "      <th></th>\n",
       "      <th>age_group</th>\n",
       "      <th>world_proportion</th>\n",
       "    </tr>\n",
       "  </thead>\n",
       "  <tbody>\n",
       "    <tr>\n",
       "      <th>0</th>\n",
       "      <td>18-30</td>\n",
       "      <td>16.350703</td>\n",
       "    </tr>\n",
       "    <tr>\n",
       "      <th>1</th>\n",
       "      <td>30-45</td>\n",
       "      <td>20.849172</td>\n",
       "    </tr>\n",
       "    <tr>\n",
       "      <th>2</th>\n",
       "      <td>45-60</td>\n",
       "      <td>16.259996</td>\n",
       "    </tr>\n",
       "    <tr>\n",
       "      <th>3</th>\n",
       "      <td>Over 60</td>\n",
       "      <td>12.217108</td>\n",
       "    </tr>\n",
       "    <tr>\n",
       "      <th>4</th>\n",
       "      <td>Under 18</td>\n",
       "      <td>34.323022</td>\n",
       "    </tr>\n",
       "  </tbody>\n",
       "</table>\n",
       "</div>"
      ],
      "text/plain": [
       "  age_group  world_proportion\n",
       "0     18-30         16.350703\n",
       "1     30-45         20.849172\n",
       "2     45-60         16.259996\n",
       "3   Over 60         12.217108\n",
       "4  Under 18         34.323022"
      ]
     },
     "execution_count": 116,
     "metadata": {},
     "output_type": "execute_result"
    }
   ],
   "source": [
    "# reformat the poportion into a dataframe \n",
    "world_demographic = pd.DataFrame({'age_group':world_demographic.index, 'world_proportion':world_demographic.values})\n",
    "world_demographic"
   ]
  },
  {
   "cell_type": "markdown",
   "metadata": {},
   "source": [
    "We can now compare the distribution of age group of workers who labeled toxicity vs the general population"
   ]
  },
  {
   "cell_type": "code",
   "execution_count": 117,
   "metadata": {},
   "outputs": [
    {
     "data": {
      "text/html": [
       "<div>\n",
       "<style scoped>\n",
       "    .dataframe tbody tr th:only-of-type {\n",
       "        vertical-align: middle;\n",
       "    }\n",
       "\n",
       "    .dataframe tbody tr th {\n",
       "        vertical-align: top;\n",
       "    }\n",
       "\n",
       "    .dataframe thead th {\n",
       "        text-align: right;\n",
       "    }\n",
       "</style>\n",
       "<table border=\"1\" class=\"dataframe\">\n",
       "  <thead>\n",
       "    <tr style=\"text-align: right;\">\n",
       "      <th></th>\n",
       "      <th>age_group</th>\n",
       "      <th>world_proportion</th>\n",
       "      <th>proportion</th>\n",
       "    </tr>\n",
       "  </thead>\n",
       "  <tbody>\n",
       "    <tr>\n",
       "      <th>0</th>\n",
       "      <td>18-30</td>\n",
       "      <td>16.350703</td>\n",
       "      <td>52.988048</td>\n",
       "    </tr>\n",
       "    <tr>\n",
       "      <th>1</th>\n",
       "      <td>30-45</td>\n",
       "      <td>20.849172</td>\n",
       "      <td>35.486625</td>\n",
       "    </tr>\n",
       "    <tr>\n",
       "      <th>2</th>\n",
       "      <td>45-60</td>\n",
       "      <td>16.259996</td>\n",
       "      <td>8.423449</td>\n",
       "    </tr>\n",
       "    <tr>\n",
       "      <th>3</th>\n",
       "      <td>Over 60</td>\n",
       "      <td>12.217108</td>\n",
       "      <td>0.853728</td>\n",
       "    </tr>\n",
       "    <tr>\n",
       "      <th>4</th>\n",
       "      <td>Under 18</td>\n",
       "      <td>34.323022</td>\n",
       "      <td>2.248150</td>\n",
       "    </tr>\n",
       "  </tbody>\n",
       "</table>\n",
       "</div>"
      ],
      "text/plain": [
       "  age_group  world_proportion  proportion\n",
       "0     18-30         16.350703   52.988048\n",
       "1     30-45         20.849172   35.486625\n",
       "2     45-60         16.259996    8.423449\n",
       "3   Over 60         12.217108    0.853728\n",
       "4  Under 18         34.323022    2.248150"
      ]
     },
     "execution_count": 117,
     "metadata": {},
     "output_type": "execute_result"
    }
   ],
   "source": [
    "worker_vs_world_age_df = world_demographic.merge(worker_age_df, on = 'age_group')\n",
    "worker_vs_world_age_df"
   ]
  },
  {
   "cell_type": "markdown",
   "metadata": {},
   "source": [
    "We now repeat the same procedure for comparing the distribution of age group of workers who labeled aggression vs the general population"
   ]
  },
  {
   "cell_type": "code",
   "execution_count": 118,
   "metadata": {},
   "outputs": [
    {
     "data": {
      "text/html": [
       "<div>\n",
       "<style scoped>\n",
       "    .dataframe tbody tr th:only-of-type {\n",
       "        vertical-align: middle;\n",
       "    }\n",
       "\n",
       "    .dataframe tbody tr th {\n",
       "        vertical-align: top;\n",
       "    }\n",
       "\n",
       "    .dataframe thead th {\n",
       "        text-align: right;\n",
       "    }\n",
       "</style>\n",
       "<table border=\"1\" class=\"dataframe\">\n",
       "  <thead>\n",
       "    <tr style=\"text-align: right;\">\n",
       "      <th></th>\n",
       "      <th>age_group</th>\n",
       "      <th>world_proportion</th>\n",
       "      <th>proportion</th>\n",
       "    </tr>\n",
       "  </thead>\n",
       "  <tbody>\n",
       "    <tr>\n",
       "      <th>0</th>\n",
       "      <td>18-30</td>\n",
       "      <td>16.350703</td>\n",
       "      <td>48.677494</td>\n",
       "    </tr>\n",
       "    <tr>\n",
       "      <th>1</th>\n",
       "      <td>30-45</td>\n",
       "      <td>20.849172</td>\n",
       "      <td>38.561485</td>\n",
       "    </tr>\n",
       "    <tr>\n",
       "      <th>2</th>\n",
       "      <td>45-60</td>\n",
       "      <td>16.259996</td>\n",
       "      <td>10.116009</td>\n",
       "    </tr>\n",
       "    <tr>\n",
       "      <th>3</th>\n",
       "      <td>Over 60</td>\n",
       "      <td>12.217108</td>\n",
       "      <td>0.928074</td>\n",
       "    </tr>\n",
       "    <tr>\n",
       "      <th>4</th>\n",
       "      <td>Under 18</td>\n",
       "      <td>34.323022</td>\n",
       "      <td>1.716937</td>\n",
       "    </tr>\n",
       "  </tbody>\n",
       "</table>\n",
       "</div>"
      ],
      "text/plain": [
       "  age_group  world_proportion  proportion\n",
       "0     18-30         16.350703   48.677494\n",
       "1     30-45         20.849172   38.561485\n",
       "2     45-60         16.259996   10.116009\n",
       "3   Over 60         12.217108    0.928074\n",
       "4  Under 18         34.323022    1.716937"
      ]
     },
     "execution_count": 118,
     "metadata": {},
     "output_type": "execute_result"
    }
   ],
   "source": [
    "agg_worker_vs_world_age_df = world_demographic.merge(worker_age_df_agg, on = 'age_group')\n",
    "agg_worker_vs_world_age_df"
   ]
  },
  {
   "cell_type": "markdown",
   "metadata": {},
   "source": [
    "### Analysis 1 findings"
   ]
  },
  {
   "cell_type": "markdown",
   "metadata": {},
   "source": [
    "From UN's data, I find the demographic distribution for age-group and gender for the year 2015. I did some data manipulation for the age-group to match up with the age-group in the dataset. For gender information (https://population.un.org/wpp/DataQuery/), male vs female ratio is 101.7 : 100 which is distributed evenly. Compared to the demographic info for the crowdflower workers, we see a very uneven distribution across gender and age-group population distribution. Workers who labeled for toxicity data and aggression data shows the same skewed demographic information. The demographic profile of the crowdflower workers do not match that of the general population well at all. We see that there are twice as much male crowdflower workers than females. We also see that there are a lot more younger people over 18-year-old among workers than the proportion of this age group in the general population. Such bias in the demographic data of the workers is very obvious. "
   ]
  },
  {
   "cell_type": "markdown",
   "metadata": {},
   "source": [
    "We should pay attention to such bias in the data since it is possible that male vs female or young people vs old people have different level of sentiment when they label the wiki comments on a scale of -2 to 2 for both the toxicity and aggression datasets. Thus in our second analysis, we go furthur to analysis suh bias in the demographic profile of the crodflower workers. "
   ]
  },
  {
   "cell_type": "markdown",
   "metadata": {},
   "source": [
    "## Analysis 2"
   ]
  },
  {
   "cell_type": "markdown",
   "metadata": {},
   "source": [
    "In this analysis, I will furthur explore the bias in the demographic profile of workers. I want to answer the question: are female-identified labelers more or less likely to label comments as aggressive than male-identified labelers? In order to answer this question, I followed the steps below:\n",
    "\n",
    "- Merge annotations for toxicity with the corresponding worker demographic data and do the same thing for aggression data\n",
    "- Calculate the conditional probability using Bayes' theorem for P(aggression level given female workers) and P(aggression level given male workers)\n",
    "- Do the same thing for the toxicity data \n"
   ]
  },
  {
   "cell_type": "markdown",
   "metadata": {},
   "source": [
    "#### Aggression"
   ]
  },
  {
   "cell_type": "markdown",
   "metadata": {},
   "source": [
    "Merge annotations for aggression with the corresponding worker demographic data "
   ]
  },
  {
   "cell_type": "code",
   "execution_count": 119,
   "metadata": {},
   "outputs": [
    {
     "data": {
      "text/html": [
       "<div>\n",
       "<style scoped>\n",
       "    .dataframe tbody tr th:only-of-type {\n",
       "        vertical-align: middle;\n",
       "    }\n",
       "\n",
       "    .dataframe tbody tr th {\n",
       "        vertical-align: top;\n",
       "    }\n",
       "\n",
       "    .dataframe thead th {\n",
       "        text-align: right;\n",
       "    }\n",
       "</style>\n",
       "<table border=\"1\" class=\"dataframe\">\n",
       "  <thead>\n",
       "    <tr style=\"text-align: right;\">\n",
       "      <th></th>\n",
       "      <th>rev_id</th>\n",
       "      <th>worker_id</th>\n",
       "      <th>aggression</th>\n",
       "      <th>aggression_score</th>\n",
       "      <th>gender</th>\n",
       "      <th>english_first_language</th>\n",
       "      <th>age_group</th>\n",
       "      <th>education</th>\n",
       "    </tr>\n",
       "  </thead>\n",
       "  <tbody>\n",
       "    <tr>\n",
       "      <th>0</th>\n",
       "      <td>37675</td>\n",
       "      <td>1362</td>\n",
       "      <td>1.0</td>\n",
       "      <td>-1.0</td>\n",
       "      <td>male</td>\n",
       "      <td>0</td>\n",
       "      <td>18-30</td>\n",
       "      <td>masters</td>\n",
       "    </tr>\n",
       "    <tr>\n",
       "      <th>1</th>\n",
       "      <td>3202092</td>\n",
       "      <td>1362</td>\n",
       "      <td>0.0</td>\n",
       "      <td>0.0</td>\n",
       "      <td>male</td>\n",
       "      <td>0</td>\n",
       "      <td>18-30</td>\n",
       "      <td>masters</td>\n",
       "    </tr>\n",
       "    <tr>\n",
       "      <th>2</th>\n",
       "      <td>4745553</td>\n",
       "      <td>1362</td>\n",
       "      <td>0.0</td>\n",
       "      <td>0.0</td>\n",
       "      <td>male</td>\n",
       "      <td>0</td>\n",
       "      <td>18-30</td>\n",
       "      <td>masters</td>\n",
       "    </tr>\n",
       "    <tr>\n",
       "      <th>3</th>\n",
       "      <td>4855563</td>\n",
       "      <td>1362</td>\n",
       "      <td>0.0</td>\n",
       "      <td>0.0</td>\n",
       "      <td>male</td>\n",
       "      <td>0</td>\n",
       "      <td>18-30</td>\n",
       "      <td>masters</td>\n",
       "    </tr>\n",
       "    <tr>\n",
       "      <th>4</th>\n",
       "      <td>8350378</td>\n",
       "      <td>1362</td>\n",
       "      <td>0.0</td>\n",
       "      <td>0.0</td>\n",
       "      <td>male</td>\n",
       "      <td>0</td>\n",
       "      <td>18-30</td>\n",
       "      <td>masters</td>\n",
       "    </tr>\n",
       "    <tr>\n",
       "      <th>...</th>\n",
       "      <td>...</td>\n",
       "      <td>...</td>\n",
       "      <td>...</td>\n",
       "      <td>...</td>\n",
       "      <td>...</td>\n",
       "      <td>...</td>\n",
       "      <td>...</td>\n",
       "      <td>...</td>\n",
       "    </tr>\n",
       "    <tr>\n",
       "      <th>855509</th>\n",
       "      <td>281960519</td>\n",
       "      <td>3964</td>\n",
       "      <td>0.0</td>\n",
       "      <td>1.0</td>\n",
       "      <td>male</td>\n",
       "      <td>0</td>\n",
       "      <td>Under 18</td>\n",
       "      <td>some</td>\n",
       "    </tr>\n",
       "    <tr>\n",
       "      <th>855510</th>\n",
       "      <td>289741535</td>\n",
       "      <td>3964</td>\n",
       "      <td>1.0</td>\n",
       "      <td>-1.0</td>\n",
       "      <td>male</td>\n",
       "      <td>0</td>\n",
       "      <td>Under 18</td>\n",
       "      <td>some</td>\n",
       "    </tr>\n",
       "    <tr>\n",
       "      <th>855511</th>\n",
       "      <td>392852210</td>\n",
       "      <td>3964</td>\n",
       "      <td>0.0</td>\n",
       "      <td>0.0</td>\n",
       "      <td>male</td>\n",
       "      <td>0</td>\n",
       "      <td>Under 18</td>\n",
       "      <td>some</td>\n",
       "    </tr>\n",
       "    <tr>\n",
       "      <th>855512</th>\n",
       "      <td>538094319</td>\n",
       "      <td>3964</td>\n",
       "      <td>0.0</td>\n",
       "      <td>0.0</td>\n",
       "      <td>male</td>\n",
       "      <td>0</td>\n",
       "      <td>Under 18</td>\n",
       "      <td>some</td>\n",
       "    </tr>\n",
       "    <tr>\n",
       "      <th>855513</th>\n",
       "      <td>192767462</td>\n",
       "      <td>4049</td>\n",
       "      <td>0.0</td>\n",
       "      <td>0.0</td>\n",
       "      <td>female</td>\n",
       "      <td>0</td>\n",
       "      <td>18-30</td>\n",
       "      <td>bachelors</td>\n",
       "    </tr>\n",
       "  </tbody>\n",
       "</table>\n",
       "<p>855514 rows × 8 columns</p>\n",
       "</div>"
      ],
      "text/plain": [
       "           rev_id  worker_id  aggression  aggression_score  gender  \\\n",
       "0           37675       1362         1.0              -1.0    male   \n",
       "1         3202092       1362         0.0               0.0    male   \n",
       "2         4745553       1362         0.0               0.0    male   \n",
       "3         4855563       1362         0.0               0.0    male   \n",
       "4         8350378       1362         0.0               0.0    male   \n",
       "...           ...        ...         ...               ...     ...   \n",
       "855509  281960519       3964         0.0               1.0    male   \n",
       "855510  289741535       3964         1.0              -1.0    male   \n",
       "855511  392852210       3964         0.0               0.0    male   \n",
       "855512  538094319       3964         0.0               0.0    male   \n",
       "855513  192767462       4049         0.0               0.0  female   \n",
       "\n",
       "        english_first_language age_group  education  \n",
       "0                            0     18-30    masters  \n",
       "1                            0     18-30    masters  \n",
       "2                            0     18-30    masters  \n",
       "3                            0     18-30    masters  \n",
       "4                            0     18-30    masters  \n",
       "...                        ...       ...        ...  \n",
       "855509                       0  Under 18       some  \n",
       "855510                       0  Under 18       some  \n",
       "855511                       0  Under 18       some  \n",
       "855512                       0  Under 18       some  \n",
       "855513                       0     18-30  bachelors  \n",
       "\n",
       "[855514 rows x 8 columns]"
      ]
     },
     "execution_count": 119,
     "metadata": {},
     "output_type": "execute_result"
    }
   ],
   "source": [
    "annotations_agg_demo = annotations_agg.merge(demographic_worker_agg, on = 'worker_id')\n",
    "annotations_agg_demo"
   ]
  },
  {
   "cell_type": "markdown",
   "metadata": {},
   "source": [
    "Find the porprotion of female and male who give aggression score < 0 for aggression data "
   ]
  },
  {
   "cell_type": "code",
   "execution_count": 90,
   "metadata": {},
   "outputs": [],
   "source": [
    "annotations_agg_new = annotations_agg_demo[annotations_agg_demo['aggression_score'] < 0]"
   ]
  },
  {
   "cell_type": "code",
   "execution_count": 93,
   "metadata": {},
   "outputs": [
    {
     "data": {
      "text/plain": [
       "male      0.613188\n",
       "female    0.386576\n",
       "other     0.000236\n",
       "Name: gender, dtype: float64"
      ]
     },
     "execution_count": 93,
     "metadata": {},
     "output_type": "execute_result"
    }
   ],
   "source": [
    "annotations_agg_new.gender.value_counts('female')"
   ]
  },
  {
   "cell_type": "markdown",
   "metadata": {},
   "source": [
    "Calculate the joint probability for female/male and aggression score < 0 "
   ]
  },
  {
   "cell_type": "code",
   "execution_count": 121,
   "metadata": {},
   "outputs": [
    {
     "name": "stdout",
     "output_type": "stream",
     "text": [
      "P(aggression < 0 and gender = female): 0.0708369158377303\n"
     ]
    }
   ],
   "source": [
    "print('P(aggression < 0 and gender = female): {}'.format(len(annotations_agg_new) * 0.386576 / len(annotations_agg_demo)))"
   ]
  },
  {
   "cell_type": "code",
   "execution_count": 122,
   "metadata": {},
   "outputs": [
    {
     "name": "stdout",
     "output_type": "stream",
     "text": [
      "P(aggression < 0 and gender = male): 0.11236172641008796\n"
     ]
    }
   ],
   "source": [
    "print('P(aggression < 0 and gender = male): {}'.format(len(annotations_agg_new) * 0.613188 / len(annotations_agg_demo)))"
   ]
  },
  {
   "cell_type": "markdown",
   "metadata": {},
   "source": [
    "Find the porprotion of female and male who give extreme aggression score = -2 "
   ]
  },
  {
   "cell_type": "code",
   "execution_count": 97,
   "metadata": {},
   "outputs": [
    {
     "data": {
      "text/plain": [
       "male      0.634996\n",
       "female    0.364790\n",
       "other     0.000214\n",
       "Name: gender, dtype: float64"
      ]
     },
     "execution_count": 97,
     "metadata": {},
     "output_type": "execute_result"
    }
   ],
   "source": [
    "annotations_agg_neg2 = annotations_agg_demo[annotations_agg_demo['aggression_score'] == -2]\n",
    "annotations_agg_neg2.gender.value_counts('female')"
   ]
  },
  {
   "cell_type": "code",
   "execution_count": 123,
   "metadata": {},
   "outputs": [
    {
     "name": "stdout",
     "output_type": "stream",
     "text": [
      "P(aggression = -2 and gender = female): 0.01595882163237539\n"
     ]
    }
   ],
   "source": [
    "print('P(aggression = -2 and gender = female): {}'.format(len(annotations_agg_neg2) * 0.364790 / len(annotations_agg_demo)))"
   ]
  },
  {
   "cell_type": "code",
   "execution_count": 124,
   "metadata": {},
   "outputs": [
    {
     "name": "stdout",
     "output_type": "stream",
     "text": [
      "P(aggression = -2 and gender = male): 0.027779785359444732\n"
     ]
    }
   ],
   "source": [
    "print('P(aggression = -2 and gender = male): {}'.format(len(annotations_agg_neg2) * 0.634996 / len(annotations_agg_demo)))"
   ]
  },
  {
   "cell_type": "markdown",
   "metadata": {},
   "source": [
    "Below is what we calculated before for p(female) worker in the aggression dataset. "
   ]
  },
  {
   "cell_type": "code",
   "execution_count": 92,
   "metadata": {},
   "outputs": [
    {
     "data": {
      "text/plain": [
       "male      0.639765\n",
       "female    0.360138\n",
       "other     0.000097\n",
       "Name: gender, dtype: float64"
      ]
     },
     "execution_count": 92,
     "metadata": {},
     "output_type": "execute_result"
    }
   ],
   "source": [
    "annotations_agg_demo.gender.value_counts('female')"
   ]
  },
  {
   "cell_type": "markdown",
   "metadata": {},
   "source": [
    "We use the Bayes' theorem to figure how the condition probability: P(aggression_score < 0 | gender = female) and P(aggression_score < 0 | gender = male). <br>\n",
    "\n",
    "\n",
    "\\begin{equation*}\n",
    "P(aggression < 0 | gender = female/male) = \n",
    "\\frac{P(aggression < 0 \\cap gender = female/male)}{P(gender = female/male)}\n",
    "\\end{equation*} <br>"
   ]
  },
  {
   "cell_type": "markdown",
   "metadata": {},
   "source": [
    "\\begin{equation*}\n",
    "P(aggression < 0 | gender = female) = \n",
    "\\frac{0.0708369}{0.360138} = 0.19667\n",
    "\\end{equation*} "
   ]
  },
  {
   "cell_type": "markdown",
   "metadata": {},
   "source": [
    "\\begin{equation*}\n",
    "P(aggression < 0 | gender = male) = \n",
    "\\frac{0.1123617}{0.639765} = 0.1756\n",
    "\\end{equation*} "
   ]
  },
  {
   "cell_type": "markdown",
   "metadata": {},
   "source": [
    "We calculate the conditional probability also for the extreme aggressive scores"
   ]
  },
  {
   "cell_type": "markdown",
   "metadata": {},
   "source": [
    "\\begin{equation*}\n",
    "P(aggression = -2 | gender = female) = \n",
    "\\frac{0.016}{0.360138} = 0.044\n",
    "\\end{equation*} "
   ]
  },
  {
   "cell_type": "markdown",
   "metadata": {},
   "source": [
    "\\begin{equation*}\n",
    "P(aggression = -2 | gender = male) = \n",
    "\\frac{0.028}{0.639765} = 0.044\n",
    "\\end{equation*} "
   ]
  },
  {
   "cell_type": "markdown",
   "metadata": {},
   "source": [
    "#### Toxicity\n",
    "We now do the same thing for the toxicity data"
   ]
  },
  {
   "cell_type": "code",
   "execution_count": 126,
   "metadata": {},
   "outputs": [],
   "source": [
    "annotations_demo = annotations.merge(demographic_worker, on = 'worker_id')"
   ]
  },
  {
   "cell_type": "markdown",
   "metadata": {},
   "source": [
    "Find the porprotion of female and male who give toxicty score < 0"
   ]
  },
  {
   "cell_type": "code",
   "execution_count": 128,
   "metadata": {},
   "outputs": [
    {
     "data": {
      "text/plain": [
       "male      0.633697\n",
       "female    0.366003\n",
       "other     0.000301\n",
       "Name: gender, dtype: float64"
      ]
     },
     "execution_count": 128,
     "metadata": {},
     "output_type": "execute_result"
    }
   ],
   "source": [
    "annotations_new = annotations_demo[annotations_demo['toxicity_score'] < 0]\n",
    "annotations_new.gender.value_counts('female')"
   ]
  },
  {
   "cell_type": "markdown",
   "metadata": {},
   "source": [
    "Calculate the joint probability for female/male and toxicity score < 0 "
   ]
  },
  {
   "cell_type": "code",
   "execution_count": 131,
   "metadata": {},
   "outputs": [
    {
     "name": "stdout",
     "output_type": "stream",
     "text": [
      "P(toxicity < 0 and gender = female): 0.05333958662093389\n"
     ]
    }
   ],
   "source": [
    "print('P(toxicity < 0 and gender = female): {}'.format(len(annotations_new) * 0.366003 / len(annotations_demo)))"
   ]
  },
  {
   "cell_type": "code",
   "execution_count": 132,
   "metadata": {},
   "outputs": [
    {
     "name": "stdout",
     "output_type": "stream",
     "text": [
      "P(toxicity < 0 and gender = male): 0.09235207367952158\n"
     ]
    }
   ],
   "source": [
    "print('P(toxicity < 0 and gender = male): {}'.format(len(annotations_new) * 0.633697 / len(annotations_demo)))"
   ]
  },
  {
   "cell_type": "markdown",
   "metadata": {},
   "source": [
    "Find the porprotion of female and male who give extreme toxicity score = -2 "
   ]
  },
  {
   "cell_type": "code",
   "execution_count": 133,
   "metadata": {},
   "outputs": [
    {
     "data": {
      "text/plain": [
       "male      0.608083\n",
       "female    0.391500\n",
       "other     0.000417\n",
       "Name: gender, dtype: float64"
      ]
     },
     "execution_count": 133,
     "metadata": {},
     "output_type": "execute_result"
    }
   ],
   "source": [
    "annotations_neg2 = annotations_demo[annotations_demo['toxicity_score'] == -2]\n",
    "annotations_neg2.gender.value_counts('female')"
   ]
  },
  {
   "cell_type": "code",
   "execution_count": 134,
   "metadata": {},
   "outputs": [
    {
     "name": "stdout",
     "output_type": "stream",
     "text": [
      "P(toxicity = -2 and gender = female): 0.01045023107676203\n"
     ]
    }
   ],
   "source": [
    "print('P(toxicity = -2 and gender = female): {}'.format(len(annotations_neg2) * 0.391500 / len(annotations_demo)))"
   ]
  },
  {
   "cell_type": "code",
   "execution_count": 135,
   "metadata": {},
   "outputs": [
    {
     "name": "stdout",
     "output_type": "stream",
     "text": [
      "P(toxicity = -2 and gender = male): 0.01623143771098515\n"
     ]
    }
   ],
   "source": [
    "print('P(toxicity = -2 and gender = male): {}'.format(len(annotations_neg2) * 0.608083 / len(annotations_demo)))"
   ]
  },
  {
   "cell_type": "markdown",
   "metadata": {},
   "source": [
    "Below is what we calculated before for p(female) worker in the toxicity dataset. "
   ]
  },
  {
   "cell_type": "code",
   "execution_count": 136,
   "metadata": {},
   "outputs": [
    {
     "data": {
      "text/plain": [
       "male      0.660194\n",
       "female    0.339541\n",
       "other     0.000266\n",
       "Name: gender, dtype: float64"
      ]
     },
     "execution_count": 136,
     "metadata": {},
     "output_type": "execute_result"
    }
   ],
   "source": [
    "annotations_demo.gender.value_counts('female')"
   ]
  },
  {
   "cell_type": "markdown",
   "metadata": {},
   "source": [
    "We use the Bayes' theorem to figure how the condition probability: P(toxicity_score < 0 | gender = female) and P(toxicity_score < 0 | gender = male). <br>\n",
    "\n",
    "\n",
    "\\begin{equation*}\n",
    "P(toxicity < 0 | gender = female/male) = \n",
    "\\frac{P(toxicity < 0 \\cap gender = female/male)}{P(gender = female/male)}\n",
    "\\end{equation*} <br>"
   ]
  },
  {
   "cell_type": "markdown",
   "metadata": {},
   "source": [
    "\\begin{equation*}\n",
    "P(toxicity < 0 | gender = female) = \n",
    "\\frac{0.053}{0.339541} = 0.156\n",
    "\\end{equation*} "
   ]
  },
  {
   "cell_type": "markdown",
   "metadata": {},
   "source": [
    "\\begin{equation*}\n",
    "P(toxicity < 0 | gender = male) = \n",
    "\\frac{0.092}{0.660194} = 0.139\n",
    "\\end{equation*} "
   ]
  },
  {
   "cell_type": "markdown",
   "metadata": {},
   "source": [
    "\\begin{equation*}\n",
    "P(toxicity = -2 | gender = female) = \n",
    "\\frac{0.01045}{0.339541} = 0.031\n",
    "\\end{equation*} "
   ]
  },
  {
   "cell_type": "markdown",
   "metadata": {},
   "source": [
    "\\begin{equation*}\n",
    "P(toxicity = -2 | gender = male) = \n",
    "\\frac{0.016}{0.660194} = 0.024\n",
    "\\end{equation*} "
   ]
  },
  {
   "cell_type": "markdown",
   "metadata": {},
   "source": [
    "### Analysis 2 findings"
   ]
  },
  {
   "cell_type": "markdown",
   "metadata": {},
   "source": [
    "Under the assumption that workers are randomly selected to do the annotations for toxicity data and the aggression data, we see that suprising, female-identified labelers are equally likely to label comments as aggressive than male-identified labelers. Based on the results of the conditional probability we have, we see P(toxicity_score/aggression_score < 0 | gender = female) and P(toxicity_score/aggression < 0 | gender = male) are very similar to each other. When I compared the extreme comments with aggression_score = -2 and toxicty_score = -2, we still see no difference between female-identified labelers and male identified labelers. P(toxicity_score/aggression = -2 | gender = female) and P(toxicity_score/aggression_score = -2 | gender = male) are very similar. "
   ]
  },
  {
   "cell_type": "markdown",
   "metadata": {},
   "source": [
    "I conclude that female-identified labelers are equally likely to label comments as aggressive than male-identified labelers. Thus gender disproportion does not contribute to the bias in the data. We do not need to worry about that. However, I believe the age-group demographic profile of workers would make a difference. If more time is granted, furthur analysis on the age-group should be done."
   ]
  },
  {
   "cell_type": "markdown",
   "metadata": {},
   "source": [
    "## Step 2: Future implications"
   ]
  },
  {
   "cell_type": "markdown",
   "metadata": {},
   "source": [
    "1. Which, if any, of these demo applications would you expect the Perspective API to perform poorly in? Why?"
   ]
  },
  {
   "cell_type": "markdown",
   "metadata": {},
   "source": [
    "We might not forsee the bias in the demographic data beside gender of the Crowdflower workers. I suspect that there is bias towards the proportion of young people in the worker population dominates the likelyhood to label comments as aggressive. Thus the API such as Comment Filter might have high false positive errors. "
   ]
  },
  {
   "cell_type": "markdown",
   "metadata": {},
   "source": [
    "2. Imagine you are one of the Google data scientists who maintains the Perspective API. If you wanted to improve the model or the API itself to make it work better for any of these purposes, how should they go about doing that?"
   ]
  },
  {
   "cell_type": "markdown",
   "metadata": {},
   "source": [
    "We should take a deeper investigation towards the potential bias in the demographic of workers. There are a lot more to explore besides age-group. Since all the comments were in English and only 17% of the annotators said they speak English as their first language there might be some error in interpretation of the comments. This data also grouped annotators by age into ranges of 15, grouping by a smaller range might produce different results. We would want to weight the aggression/toxicity scores of the comments axcording to out furthur analysis. "
   ]
  },
  {
   "cell_type": "markdown",
   "metadata": {},
   "source": [
    "3. What are some potential unintended, negative consequences of using the Perspective API for any of these purposes? In your opinion, are these consequences likely or serious enough that you would recommend that the Perspective API not be used in these applications? Why or why not?"
   ]
  },
  {
   "cell_type": "markdown",
   "metadata": {},
   "source": [
    "some potential unintended, negative consequences of using the Perspective API could be both the type I and the type II error. The API falsely accusing a person of being a negative user on a specific platform or missing a toxic user thus allowing them to stay on the platform. \n"
   ]
  }
 ],
 "metadata": {
  "kernelspec": {
   "display_name": "Python 3",
   "language": "python",
   "name": "python3"
  },
  "language_info": {
   "codemirror_mode": {
    "name": "ipython",
    "version": 3
   },
   "file_extension": ".py",
   "mimetype": "text/x-python",
   "name": "python",
   "nbconvert_exporter": "python",
   "pygments_lexer": "ipython3",
   "version": "3.8.3"
  }
 },
 "nbformat": 4,
 "nbformat_minor": 4
}
