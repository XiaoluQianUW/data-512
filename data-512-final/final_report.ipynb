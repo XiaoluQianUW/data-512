{
 "cells": [
  {
   "cell_type": "markdown",
   "metadata": {},
   "source": [
    "# Data 512 Final Project \n",
    "## China's Wage Premium: A Comparison of Urban Areas and Rural Areas \n",
    "Xiaolu Qian <br>12/14/2020"
   ]
  },
  {
   "cell_type": "code",
   "execution_count": 485,
   "metadata": {},
   "outputs": [],
   "source": [
    "import pandas as pd\n",
    "import numpy as np\n",
    "import matplotlib.pyplot as plt\n",
    "%matplotlib inline"
   ]
  },
  {
   "cell_type": "markdown",
   "metadata": {},
   "source": [
    "### Introduction"
   ]
  },
  {
   "cell_type": "markdown",
   "metadata": {},
   "source": [
    "Traditionally, people living in the urban areas tend to earn more compared to those who live in the rural areas. Such bias in income exists for multiply possible reasons. The main research question I have is: What makes workers in urban area makes more money than those living in the rural area capitals? Previous theories for the explanation includes ability bias of workers living in urban areas, higher living costs in urban areas, and urban agglomeration effect. After controlling for all potential confounding variables, there does not exist urban wage premium; higher wages in urban areas is likely to explain by the higher cost of living, high-skilled jobs, being male in large cities."
   ]
  },
  {
   "cell_type": "markdown",
   "metadata": {},
   "source": [
    "### Background"
   ]
  },
  {
   "cell_type": "markdown",
   "metadata": {},
   "source": [
    "According to United Nations’ statistics, more than half of the population in the world are living in urban regions, and urbanization keeps spreading throughout the world. Regional opportunity structures attract a lot of investigations of the urban labor market at a micro level. High-income level and fast income growth of workers in populated regions are in contrast with the wage level of workers in the rural area and less dense places. A vast literature studies the urban wage premium, particularly in the U.S. context.\n",
    "\n",
    "China led the global urbanization of the past few decades and according to the World Bank is expected to have 70% of its population living in urban areas by the year 2030. Although China has been going through such a dramatic scale of urbanization, currently there is not a lot of literature on urban wage premium in China. \n",
    "\n",
    "The goal of this project is to investigate China's urban wage premium. My goal is to determine if there exist urban agglomeration effects in China that contribute to the wage premium accounting for the cost of living and the unobservable ability bias of workers. \n",
    "\n",
    "Wages of workers living in urban areas may differ because people with higher skills self-select to reside in cities (perhaps with a preference for provincial capitals), generating an ability bias in standard OLS regression of wages on the place of residence. My study will build on mainstream explanations for the urban wage premium to investigate the specific case of China's urban wage premium and provincial capital wage premium. Peng (2016) used China’s Comprehensive Social Survey (CGSS) in 2010 and applied an instrumental variable method. To control for ability bias, he instrumented urban location with urban scale data from 10 years ago. He discovered that there exists a significant urban scale wage premium in larger cities with a population of more than 5 million for both high-skilled and low-skilled workers. Huang’s (2008) study focuses on China’s provincial capitals. Without controlling for the cost of living, he finds that there exists about a 14% wage premium in provincial capital cities. He also finds that there is a 7% provincial capital premium for workers because of the agglomeration economic effects using Mundlak-Chamberlain's random-effect model to control for the cost of living. However, he uses the average monthly expenses on childcare in cities to control for the cost of living. Building on his work, I will use the average housing price per unit to account for different levels of costs of living in different locations. "
   ]
  },
  {
   "cell_type": "markdown",
   "metadata": {},
   "source": [
    "### Research Question and hypothesis"
   ]
  },
  {
   "cell_type": "markdown",
   "metadata": {},
   "source": [
    "Main Question: <br>\n",
    "What makes workers in urban area makes more money than those living in the rural area? \n",
    "\n",
    "Sub Questions: \n",
    "- Does the urban wage premium only reflect that more able workers choose to live in cities? \n",
    "- Are urban workers having higher wages compensated for the higher cost of living in cities?\n",
    "- Is it actually true that urban areas make workers more productive and lead to higher wages?\n",
    "\n",
    "Hypothesis: <br>\n",
    "After controlling for all potential confounding variables, there still exist urban wage premium which is likely to explain by the agglomeration effect of large cities. "
   ]
  },
  {
   "cell_type": "markdown",
   "metadata": {},
   "source": [
    "### Data selected for analysis"
   ]
  },
  {
   "cell_type": "markdown",
   "metadata": {},
   "source": [
    "I will be using data from the China Health and Nutrition Survey (CHNS) https://www.cpc.unc.edu/projects/china, a nationally representative sample of Chinese population running from 1997 to 2015. While there is a lot of restricted access to Chinese government population statistics, the CHNS covers 15 representative provinces that vary substantially in demography, economics, and public resources. It used a multistage, random cluster process in drawing sample statistics from each province. The overall survey contains about 7,200 households and covers roughly 30,000 individuals with residential location types classified as urban neighborhoods, rural villages, county town neighborhoods, and suburban villages. In urban areas, the provincial capital and a lower income city were selected randomly if possible. In rural areas, counties were stratified by income, and a weighted scheme was used to randomly select four counties within each province. This includes detailed household and individual economic and social information.\n",
    "\n",
    "This survey data is gathered by UNC and is publicly available to be used. According to the survey website, “the survey was conducted by an international team of researchers whose backgrounds include nutrition, public health, economics, sociology, Chinese studies, and demography. The survey took place over a 7-day period using a multistage, random cluster process to draw a sample of about 7,200 households with over 30,000 individuals in 15 provinces and municipal cities that vary substantially in geography, economic development, public resources, and health indicators. In addition, detailed community data were collected in surveys of food markets, health facilities, family planning officials, and other social services and community leaders.” There is no need to worry about the ethical considerations to use this dataset.\n",
    "\n"
   ]
  },
  {
   "cell_type": "code",
   "execution_count": 509,
   "metadata": {},
   "outputs": [],
   "source": [
    "# data ingestion\n",
    "wage_12_2015 = pd.io.stata.read_stata('wage.dta')\n",
    "jobs_12_2015 = pd.io.stata.read_stata('jobs.dta')\n",
    "jobs_12_2015 = jobs_12_2015.drop(columns=['t2'])\n",
    "age_2015 = pd.io.stata.read_stata('age.dta')\n",
    "age_2015 = age_2015.drop(columns=['t2'])\n",
    "education_2015 = pd.io.stata.read_stata('education.dta')\n",
    "education_2015 = education_2015.drop(columns=['t2'])\n",
    "gender = pd.io.stata.read_stata('gender.dta')\n",
    "marital_status_2015 = pd.io.stata.read_stata('marital_status.dta')\n",
    "marital_status_2015 = marital_status_2015.drop(columns=['t2'])\n",
    "asset = pd.io.stata.read_stata('asset.dta')\n",
    "asset = asset.drop(columns=['t2'])"
   ]
  },
  {
   "cell_type": "markdown",
   "metadata": {},
   "source": [
    "All the data encoding are listed in this questionnaire: https://www.cpc.unc.edu/projects/china/data/questionnaires/C15Individual_Eng.pdf. Here we perform some simple data manipulation to plot the distribution of individuals monthly wages for those who live in rural area and urban areas. c8 in the survey data  stands for monthly wage. t2 indicates the status of where the individual lives in rural area or urban area. t1 = 1 is for urban area and t1 = 2 is for rural areas."
   ]
  },
  {
   "cell_type": "code",
   "execution_count": 351,
   "metadata": {},
   "outputs": [],
   "source": [
    "new = wage.merge(jobs, on = 'idind',how='inner')\n",
    "new = new[new['c8'] != 999999]\n",
    "new = new[new['c8'] < 100000]\n",
    "df3 = new[new.t2 == 1]\n",
    "df4 = new[new.t2 == 2]"
   ]
  },
  {
   "cell_type": "markdown",
   "metadata": {},
   "source": [
    "We see that there is a clear difference of the monthly wage distribution between urban area and  rural area. People in urban area makes almost  1.5 times more than those who lives in the rural area."
   ]
  },
  {
   "cell_type": "code",
   "execution_count": 356,
   "metadata": {},
   "outputs": [
    {
     "data": {
      "text/plain": [
       "Text(0, 0.5, 'Count')"
      ]
     },
     "execution_count": 356,
     "metadata": {},
     "output_type": "execute_result"
    },
    {
     "data": {
      "image/png": "[encoded data removed]",
      "text/plain": [
       "<Figure size 720x576 with 1 Axes>"
      ]
     },
     "metadata": {},
     "output_type": "display_data"
    }
   ],
   "source": [
    "sns.distplot(df3['c8'],  kde=False, label='urban')\n",
    "sns.distplot(df4['c8'],  kde=False, label='rural')\n",
    "plt.legend(prop={'size': 12})\n",
    "plt.title('Histogram of Monthly Wage Distribution')\n",
    "plt.xlabel('Yuan')\n",
    "plt.ylabel('Count')"
   ]
  },
  {
   "cell_type": "markdown",
   "metadata": {},
   "source": [
    "### Methodology"
   ]
  },
  {
   "cell_type": "markdown",
   "metadata": {},
   "source": [
    "- OLS <br>\n",
    "I started my analysis by running a standard mincerian regression using OLS. OLS is a powerful tool that will help us understand the correlation/ causality between wage and all the confounding variables. OLS is also used a lot in other researches related to this topic. "
   ]
  },
  {
   "cell_type": "markdown",
   "metadata": {},
   "source": [
    "\\begin{align}\n",
    "log(W) = \\sum_{i=1}^n \\beta_iX_i + \\gamma * urban_i + \\alpha_i + \\epsilon_i\n",
    "\\end{align} "
   ]
  },
  {
   "cell_type": "markdown",
   "metadata": {},
   "source": [
    "where W is the hourly wage for an individual i, and $X_i$ an individual characteristic that includes gender, years of schooling, potential experience (years of schooling minus age) and its square, a white-collar job occupation dummy, log of the housing price per unit, and an interaction term between white-collar dummy and urban or capital dummy.Urbankis a dummy variable describing whether the individual lives in an urban area."
   ]
  },
  {
   "cell_type": "markdown",
   "metadata": {},
   "source": [
    "The following are some data cleaning process in which outliers are eliminated and all wanted features are renamed and joined together. "
   ]
  },
  {
   "cell_type": "code",
   "execution_count": 510,
   "metadata": {},
   "outputs": [],
   "source": [
    "# join all the datasets together \n",
    "urban = wage.merge(jobs, on = 'idind',how='inner')\n",
    "urban = urban.merge(age, on = 'idind',how='inner').merge(education, on = 'idind',how='inner')\n",
    "urban = urban.merge(gender, on = 'idind',how='inner').merge(marital_status, on = 'idind',how='inner')\n",
    "urban = urban.merge(asset, on = 'hhid',how='inner')"
   ]
  },
  {
   "cell_type": "code",
   "execution_count": 515,
   "metadata": {},
   "outputs": [],
   "source": [
    "# create housing price per unit to account for the coat of living\n",
    "urban =  urban[urban['l18'] > 0]\n",
    "urban[\"price_per_unit\"] = np.log(urban[\"l18\"] * 10000/urban['l16'])\n",
    "urban =  urban[urban['price_per_unit'] < 150000]\n",
    "urban[\"p_housing\"] = np.log(urban[\"price_per_unit\"])"
   ]
  },
  {
   "cell_type": "code",
   "execution_count": 519,
   "metadata": {},
   "outputs": [],
   "source": [
    "# create dummy variable for gender\n",
    "dummy = pd.get_dummies(urban['gender'])\n",
    "dummy = dummy.rename(columns={1.0: 'male', 2.0: 'female'})\n",
    "urban = urban.merge(dummy, left_index = True, right_index = True)"
   ]
  },
  {
   "cell_type": "code",
   "execution_count": 523,
   "metadata": {},
   "outputs": [],
   "source": [
    "# Create variables for high skilled and lower-skilled workers \n",
    "occupation = []\n",
    "for val in urban.b4:\n",
    "    if val == 1 or val == 3 or val == 8 or val == 12 or val == 2 or val == 4 or val == 6 or val == 10:    \n",
    "        occupation.append(1) \n",
    "        \n",
    "    else:\n",
    "        occupation.append(0) \n",
    "urban.insert(len(urban.columns),'occupation',occupation)"
   ]
  },
  {
   "cell_type": "code",
   "execution_count": 524,
   "metadata": {},
   "outputs": [],
   "source": [
    "# filter marital status to only keep those who are single or married\n",
    "urban['a8'] =  urban[urban['a8'] != 3]\n",
    "urban['a8'] =  urban[urban['a8'] != 4]\n",
    "urban['a8'] =  urban[urban['a8'] != 5]\n",
    "\n",
    "marital_status = []\n",
    "for val in urban.a8:\n",
    "    if val != 2:    \n",
    "        marital_status.append(1) \n",
    "        \n",
    "    else:\n",
    "        marital_status.append(0) \n",
    "urban.insert(len(urban.columns),'marital_status',marital_status)"
   ]
  },
  {
   "cell_type": "code",
   "execution_count": 526,
   "metadata": {},
   "outputs": [],
   "source": [
    "# create and rename dummy variable for urban and rural \n",
    "urb = []\n",
    "for val in urban.t2:\n",
    "    if val == 1:    \n",
    "        urb.append(1) \n",
    "    else:\n",
    "        urb.append(0)    \n",
    "        \n",
    "urban.insert(len(urban.columns),'urb',urb)"
   ]
  },
  {
   "cell_type": "code",
   "execution_count": 527,
   "metadata": {},
   "outputs": [],
   "source": [
    "# create daily wage variable from monthly wages and days worked in the months\n",
    "urban = urban[urban['c8'] != 999999]\n",
    "urban[\"wage\"] = np.log(urban['c8']/4/urban['c5']/urban['c6'])"
   ]
  },
  {
   "cell_type": "code",
   "execution_count": 528,
   "metadata": {},
   "outputs": [],
   "source": [
    "# Create variable for years of education  \n",
    "urban = urban[urban['a11'] != -9]\n",
    "urban = urban.rename(columns={'a11': 'education'})\n",
    "\n",
    "year_of_education = []\n",
    "for val in urban.education:\n",
    "    if val == 11:\n",
    "        year_of_education.append(1)\n",
    "    elif val == 12:\n",
    "        year_of_education.append(2)\n",
    "    elif val == 13:\n",
    "        year_of_education.append(3)\n",
    "    elif val == 14:\n",
    "        year_of_education.append(4)\n",
    "    elif val == 15:\n",
    "        year_of_education.append(5)\n",
    "    elif val == 16:\n",
    "        year_of_education.append(6)\n",
    "    elif val == 21:\n",
    "        year_of_education.append(7)\n",
    "    elif val == 22:\n",
    "        year_of_education.append(8)\n",
    "    elif val == 23:\n",
    "        year_of_education.append(9)\n",
    "    elif val == 24:\n",
    "        year_of_education.append(10)\n",
    "    elif val == 25:\n",
    "        year_of_education.append(11)\n",
    "    elif val == 26:\n",
    "        year_of_education.append(12)\n",
    "    elif val == 27:\n",
    "        year_of_education.append(13)\n",
    "    elif val == 28:\n",
    "        year_of_education.append(14)\n",
    "    elif val == 29:\n",
    "        year_of_education.append(15)\n",
    "    elif val == 30:\n",
    "        year_of_education.append(16)\n",
    "    elif val == 31:\n",
    "        year_of_education.append(17)\n",
    "    elif val == 32:\n",
    "        year_of_education.append(18)\n",
    "    elif val == 33:\n",
    "        year_of_education.append(19)\n",
    "    elif val == 34:\n",
    "        year_of_education.append(20)\n",
    "    elif val == 35:\n",
    "        year_of_education.append(21)\n",
    "    elif val == 36:\n",
    "        year_of_education.append(22)\n",
    "    else:\n",
    "        year_of_education.append(0) \n",
    "urban.insert(len(urban.columns),'year_of_education',year_of_education)"
   ]
  },
  {
   "cell_type": "code",
   "execution_count": 479,
   "metadata": {},
   "outputs": [],
   "source": [
    "# Create variable for years of work experience which is deduced from age - year of education\n",
    "urban[\"potential_experience\"] = urban['age'] - urban['year_of_education']"
   ]
  },
  {
   "cell_type": "code",
   "execution_count": 480,
   "metadata": {},
   "outputs": [],
   "source": [
    "# Create variable for housing price squared\n",
    "urban[\"p_housing2\"] = urban[\"p_housing\"] * urban[\"p_housing\"]"
   ]
  },
  {
   "cell_type": "code",
   "execution_count": 481,
   "metadata": {},
   "outputs": [],
   "source": [
    "# Create interaction between housing price and urban indicator\n",
    "urban[\"price_urban\"] = urban['p_housing'] * urban['urb']"
   ]
  },
  {
   "cell_type": "code",
   "execution_count": 482,
   "metadata": {},
   "outputs": [],
   "source": [
    "# Create interaction between occupation and urban  indicator\n",
    "urban[\"occupation_urban\"] = urban['occupation'] * urban['urb']"
   ]
  },
  {
   "cell_type": "markdown",
   "metadata": {},
   "source": [
    "### Findings"
   ]
  },
  {
   "cell_type": "markdown",
   "metadata": {},
   "source": [
    "After data preprocessing, I conducted 6 OLS regression models to test for urban wage premium and other confounding variables such as cost of living, years of education, gender, type of occupation and etc. that contributes to the wage premium."
   ]
  },
  {
   "cell_type": "markdown",
   "metadata": {},
   "source": [
    "####  Regression 1\n",
    "Features: urban, male, price of housing"
   ]
  },
  {
   "cell_type": "code",
   "execution_count": 544,
   "metadata": {},
   "outputs": [
    {
     "name": "stdout",
     "output_type": "stream",
     "text": [
      "                            OLS Regression Results                            \n",
      "==============================================================================\n",
      "Dep. Variable:                      y   R-squared:                       0.083\n",
      "Model:                            OLS   Adj. R-squared:                  0.082\n",
      "Method:                 Least Squares   F-statistic:                     81.36\n",
      "Date:                Mon, 14 Dec 2020   Prob (F-statistic):           2.15e-50\n",
      "Time:                        18:50:06   Log-Likelihood:                -3117.4\n",
      "No. Observations:                2709   AIC:                             6243.\n",
      "Df Residuals:                    2705   BIC:                             6267.\n",
      "Df Model:                           3                                         \n",
      "Covariance Type:            nonrobust                                         \n",
      "==============================================================================\n",
      "                 coef    std err          t      P>|t|      [0.025      0.975]\n",
      "------------------------------------------------------------------------------\n",
      "const          2.0231      0.055     36.749      0.000       1.915       2.131\n",
      "x1            -0.0330      0.033     -1.011      0.312      -0.097       0.031\n",
      "x2             0.2378      0.030      7.989      0.000       0.179       0.296\n",
      "x3             0.0096      0.001     12.885      0.000       0.008       0.011\n",
      "==============================================================================\n",
      "Omnibus:                      456.342   Durbin-Watson:                   1.622\n",
      "Prob(Omnibus):                  0.000   Jarque-Bera (JB):             6659.203\n",
      "Skew:                           0.324   Prob(JB):                         0.00\n",
      "Kurtosis:                      10.653   Cond. No.                         290.\n",
      "==============================================================================\n",
      "\n",
      "Warnings:\n",
      "[1] Standard Errors assume that the covariance matrix of the errors is correctly specified.\n"
     ]
    }
   ],
   "source": [
    "X = np.array(urban[['urb','male','p_housing']])\n",
    "\n",
    "#For the dependent variable Y, we have the data for mortality within one year. \n",
    "y = np.array(urban['lny'])\n",
    "\n",
    "#Add a constant to the regression model\n",
    "X = sm.add_constant(X)\n",
    "\n",
    "#Fit an OLS model \n",
    "results = sm.OLS(y, X, missing='drop').fit()\n",
    "\n",
    "#Inspect the results\n",
    "print(results.summary())"
   ]
  },
  {
   "cell_type": "markdown",
   "metadata": {},
   "source": [
    "#### Regression 2\n",
    "Features: urban, male, price of housing, years of education"
   ]
  },
  {
   "cell_type": "code",
   "execution_count": 545,
   "metadata": {},
   "outputs": [
    {
     "name": "stdout",
     "output_type": "stream",
     "text": [
      "                            OLS Regression Results                            \n",
      "==============================================================================\n",
      "Dep. Variable:                      y   R-squared:                       0.122\n",
      "Model:                            OLS   Adj. R-squared:                  0.120\n",
      "Method:                 Least Squares   F-statistic:                     93.52\n",
      "Date:                Mon, 14 Dec 2020   Prob (F-statistic):           1.38e-74\n",
      "Time:                        19:15:25   Log-Likelihood:                -3058.3\n",
      "No. Observations:                2708   AIC:                             6127.\n",
      "Df Residuals:                    2703   BIC:                             6156.\n",
      "Df Model:                           4                                         \n",
      "Covariance Type:            nonrobust                                         \n",
      "==============================================================================\n",
      "                 coef    std err          t      P>|t|      [0.025      0.975]\n",
      "------------------------------------------------------------------------------\n",
      "const          1.6555      0.064     26.057      0.000       1.531       1.780\n",
      "x1            -0.0662      0.032     -2.066      0.039      -0.129      -0.003\n",
      "x2             0.2360      0.029      8.095      0.000       0.179       0.293\n",
      "x3             0.0075      0.001      9.913      0.000       0.006       0.009\n",
      "x4             0.0456      0.004     10.926      0.000       0.037       0.054\n",
      "==============================================================================\n",
      "Omnibus:                      511.646   Durbin-Watson:                   1.643\n",
      "Prob(Omnibus):                  0.000   Jarque-Bera (JB):             9178.980\n",
      "Skew:                           0.369   Prob(JB):                         0.00\n",
      "Kurtosis:                      11.989   Cond. No.                         342.\n",
      "==============================================================================\n",
      "\n",
      "Warnings:\n",
      "[1] Standard Errors assume that the covariance matrix of the errors is correctly specified.\n"
     ]
    }
   ],
   "source": [
    "X = np.array(urban[['urb','male','p_housing', 'year_of_education']])\n",
    "\n",
    "y = np.array(urban['lny'])\n",
    "\n",
    "#Add a constant to the regression model\n",
    "X = sm.add_constant(X)\n",
    "\n",
    "#Fit an OLS model \n",
    "results = sm.OLS(y, X, missing='drop').fit()\n",
    "\n",
    "#Inspect the results\n",
    "print(results.summary())"
   ]
  },
  {
   "cell_type": "markdown",
   "metadata": {},
   "source": [
    "#### Regression 3\n",
    "Features: urban, male, price of housing, years of education, occupation"
   ]
  },
  {
   "cell_type": "code",
   "execution_count": 546,
   "metadata": {},
   "outputs": [
    {
     "name": "stdout",
     "output_type": "stream",
     "text": [
      "                            OLS Regression Results                            \n",
      "==============================================================================\n",
      "Dep. Variable:                      y   R-squared:                       0.131\n",
      "Model:                            OLS   Adj. R-squared:                  0.129\n",
      "Method:                 Least Squares   F-statistic:                     81.39\n",
      "Date:                Mon, 14 Dec 2020   Prob (F-statistic):           8.65e-80\n",
      "Time:                        19:18:59   Log-Likelihood:                -3043.8\n",
      "No. Observations:                2708   AIC:                             6100.\n",
      "Df Residuals:                    2702   BIC:                             6135.\n",
      "Df Model:                           5                                         \n",
      "Covariance Type:            nonrobust                                         \n",
      "==============================================================================\n",
      "                 coef    std err          t      P>|t|      [0.025      0.975]\n",
      "------------------------------------------------------------------------------\n",
      "const          1.7130      0.064     26.723      0.000       1.587       1.839\n",
      "x1            -0.0597      0.032     -1.872      0.061      -0.122       0.003\n",
      "x2             0.2225      0.029      7.644      0.000       0.165       0.280\n",
      "x3             0.0072      0.001      9.600      0.000       0.006       0.009\n",
      "x4             0.0343      0.005      7.353      0.000       0.025       0.043\n",
      "x5             0.1782      0.033      5.386      0.000       0.113       0.243\n",
      "==============================================================================\n",
      "Omnibus:                      530.387   Durbin-Watson:                   1.645\n",
      "Prob(Omnibus):                  0.000   Jarque-Bera (JB):            10167.424\n",
      "Skew:                           0.385   Prob(JB):                         0.00\n",
      "Kurtosis:                      12.461   Cond. No.                         349.\n",
      "==============================================================================\n",
      "\n",
      "Warnings:\n",
      "[1] Standard Errors assume that the covariance matrix of the errors is correctly specified.\n"
     ]
    }
   ],
   "source": [
    "X = np.array(urban[['urb','male','p_housing', 'year_of_education', 'occupation']])\n",
    "\n",
    "y = np.array(urban['lny'])\n",
    "\n",
    "#Add a constant to the regression model\n",
    "X = sm.add_constant(X)\n",
    "\n",
    "#Fit an OLS model \n",
    "results = sm.OLS(y, X, missing='drop').fit()\n",
    "\n",
    "#Inspect the results\n",
    "print(results.summary())"
   ]
  },
  {
   "cell_type": "markdown",
   "metadata": {},
   "source": [
    "#### Regression 4\n",
    "Features: urban, male, price of housing, years of education, occupation, marital status"
   ]
  },
  {
   "cell_type": "code",
   "execution_count": 547,
   "metadata": {},
   "outputs": [
    {
     "name": "stdout",
     "output_type": "stream",
     "text": [
      "                            OLS Regression Results                            \n",
      "==============================================================================\n",
      "Dep. Variable:                      y   R-squared:                       0.130\n",
      "Model:                            OLS   Adj. R-squared:                  0.128\n",
      "Method:                 Least Squares   F-statistic:                     67.18\n",
      "Date:                Mon, 14 Dec 2020   Prob (F-statistic):           4.19e-78\n",
      "Time:                        19:20:19   Log-Likelihood:                -3037.0\n",
      "No. Observations:                2702   AIC:                             6088.\n",
      "Df Residuals:                    2695   BIC:                             6129.\n",
      "Df Model:                           6                                         \n",
      "Covariance Type:            nonrobust                                         \n",
      "==============================================================================\n",
      "                 coef    std err          t      P>|t|      [0.025      0.975]\n",
      "------------------------------------------------------------------------------\n",
      "const          1.6760      0.090     18.661      0.000       1.500       1.852\n",
      "x1            -0.0584      0.032     -1.827      0.068      -0.121       0.004\n",
      "x2             0.2219      0.029      7.612      0.000       0.165       0.279\n",
      "x3             0.0073      0.001      9.617      0.000       0.006       0.009\n",
      "x4             0.0344      0.005      7.309      0.000       0.025       0.044\n",
      "x5             0.1765      0.033      5.326      0.000       0.112       0.241\n",
      "x6             0.0358      0.056      0.639      0.523      -0.074       0.146\n",
      "==============================================================================\n",
      "Omnibus:                      529.467   Durbin-Watson:                   1.649\n",
      "Prob(Omnibus):                  0.000   Jarque-Bera (JB):            10194.349\n",
      "Skew:                           0.384   Prob(JB):                         0.00\n",
      "Kurtosis:                      12.485   Cond. No.                         531.\n",
      "==============================================================================\n",
      "\n",
      "Warnings:\n",
      "[1] Standard Errors assume that the covariance matrix of the errors is correctly specified.\n"
     ]
    }
   ],
   "source": [
    "X = np.array(urban[['urb','male','p_housing', 'year_of_education', 'occupation', 'marital_status']])\n",
    "\n",
    "y = np.array(urban['lny'])\n",
    "\n",
    "#Add a constant to the regression model\n",
    "X = sm.add_constant(X)\n",
    "\n",
    "#Fit an OLS model \n",
    "results = sm.OLS(y, X, missing='drop').fit()\n",
    "\n",
    "#Inspect the results\n",
    "print(results.summary())"
   ]
  },
  {
   "cell_type": "markdown",
   "metadata": {},
   "source": [
    "#### Regression 5\n",
    "Features: urban, male, price of housing, years of education, occupation, marital status, potential experience"
   ]
  },
  {
   "cell_type": "code",
   "execution_count": 543,
   "metadata": {},
   "outputs": [
    {
     "name": "stdout",
     "output_type": "stream",
     "text": [
      "                            OLS Regression Results                            \n",
      "==============================================================================\n",
      "Dep. Variable:                      y   R-squared:                       0.132\n",
      "Model:                            OLS   Adj. R-squared:                  0.130\n",
      "Method:                 Least Squares   F-statistic:                     58.67\n",
      "Date:                Thu, 10 Dec 2020   Prob (F-statistic):           1.27e-78\n",
      "Time:                        15:35:07   Log-Likelihood:                -3033.7\n",
      "No. Observations:                2702   AIC:                             6083.\n",
      "Df Residuals:                    2694   BIC:                             6131.\n",
      "Df Model:                           7                                         \n",
      "Covariance Type:            nonrobust                                         \n",
      "==============================================================================\n",
      "                 coef    std err          t      P>|t|      [0.025      0.975]\n",
      "------------------------------------------------------------------------------\n",
      "const          1.8162      0.105     17.353      0.000       1.611       2.021\n",
      "x1            -0.0519      0.032     -1.622      0.105      -0.115       0.011\n",
      "x2             0.2390      0.030      8.006      0.000       0.180       0.298\n",
      "x3             0.0074      0.001      9.837      0.000       0.006       0.009\n",
      "x4             0.0261      0.006      4.606      0.000       0.015       0.037\n",
      "x5             0.1836      0.033      5.526      0.000       0.118       0.249\n",
      "x6             0.0984      0.061      1.615      0.106      -0.021       0.218\n",
      "x7            -0.0042      0.002     -2.601      0.009      -0.007      -0.001\n",
      "==============================================================================\n",
      "Omnibus:                      532.576   Durbin-Watson:                   1.646\n",
      "Prob(Omnibus):                  0.000   Jarque-Bera (JB):            10134.436\n",
      "Skew:                           0.397   Prob(JB):                         0.00\n",
      "Kurtosis:                      12.454   Cond. No.                         618.\n",
      "==============================================================================\n",
      "\n",
      "Warnings:\n",
      "[1] Standard Errors assume that the covariance matrix of the errors is correctly specified.\n"
     ]
    }
   ],
   "source": [
    "X = np.array(urban[['urb','male','p_housing', 'year_of_education', 'occupation', 'marital_status', 'potential_experience']])\n",
    "\n",
    "y = np.array(urban['lny'])\n",
    "\n",
    "#Add a constant to the regression model\n",
    "X = sm.add_constant(X)\n",
    "\n",
    "#Fit an OLS model \n",
    "results = sm.OLS(y, X, missing='drop').fit()\n",
    "\n",
    "#Inspect the results\n",
    "print(results.summary())"
   ]
  },
  {
   "cell_type": "markdown",
   "metadata": {},
   "source": [
    "#### Regression 6\n",
    "Features: urban, male, price of housing, years of education, occupation, marital status, potential experience, price of housing squared, price_urban, occupation_urban"
   ]
  },
  {
   "cell_type": "code",
   "execution_count": 538,
   "metadata": {},
   "outputs": [
    {
     "name": "stdout",
     "output_type": "stream",
     "text": [
      "                            OLS Regression Results                            \n",
      "==============================================================================\n",
      "Dep. Variable:                      y   R-squared:                       0.138\n",
      "Model:                            OLS   Adj. R-squared:                  0.135\n",
      "Method:                 Least Squares   F-statistic:                     43.22\n",
      "Date:                Thu, 10 Dec 2020   Prob (F-statistic):           4.82e-80\n",
      "Time:                        14:25:29   Log-Likelihood:                -3024.1\n",
      "No. Observations:                2702   AIC:                             6070.\n",
      "Df Residuals:                    2691   BIC:                             6135.\n",
      "Df Model:                          10                                         \n",
      "Covariance Type:            nonrobust                                         \n",
      "==============================================================================\n",
      "                 coef    std err          t      P>|t|      [0.025      0.975]\n",
      "------------------------------------------------------------------------------\n",
      "const          1.7974      0.194      9.282      0.000       1.418       2.177\n",
      "x1            -0.4447      0.134     -3.319      0.001      -0.707      -0.182\n",
      "x2             0.2411      0.030      8.080      0.000       0.183       0.300\n",
      "x3             0.0111      0.005      2.255      0.024       0.001       0.021\n",
      "x4            -0.0043      0.002     -2.690      0.007      -0.007      -0.001\n",
      "x5             0.0986      0.042      2.371      0.018       0.017       0.180\n",
      "x6             0.1014      0.061      1.668      0.095      -0.018       0.221\n",
      "x7         -3.702e-05   3.26e-05     -1.134      0.257      -0.000     2.7e-05\n",
      "x8             0.0039      0.002      2.127      0.034       0.000       0.007\n",
      "x9             0.2041      0.059      3.436      0.001       0.088       0.321\n",
      "x10            0.0256      0.006      4.486      0.000       0.014       0.037\n",
      "==============================================================================\n",
      "Omnibus:                      521.969   Durbin-Watson:                   1.656\n",
      "Prob(Omnibus):                  0.000   Jarque-Bera (JB):            10075.415\n",
      "Skew:                           0.364   Prob(JB):                         0.00\n",
      "Kurtosis:                      12.432   Cond. No.                     9.32e+04\n",
      "==============================================================================\n",
      "\n",
      "Warnings:\n",
      "[1] Standard Errors assume that the covariance matrix of the errors is correctly specified.\n",
      "[2] The condition number is large, 9.32e+04. This might indicate that there are\n",
      "strong multicollinearity or other numerical problems.\n"
     ]
    }
   ],
   "source": [
    "X = np.array(urban[['urb','male','p_housing','potential_experience','occupation', 'marital_status',\\\n",
    "                            'p_housing2', 'price_urban', 'occupation_urban', 'year_of_education']])\n",
    "\n",
    "y = np.array(urban['lny'])\n",
    "\n",
    "#Add a constant to the regression model\n",
    "X = sm.add_constant(X)\n",
    "\n",
    "#Fit an OLS model \n",
    "results = sm.OLS(y, X, missing='drop').fit()\n",
    "\n",
    "#Inspect the results\n",
    "print(results.summary())"
   ]
  },
  {
   "cell_type": "markdown",
   "metadata": {},
   "source": [
    "### Discussion"
   ]
  },
  {
   "cell_type": "markdown",
   "metadata": {},
   "source": [
    "From regression 1 to 6, we see that the coefficient for x1 which is the indicator variable for urban is negative and not significant across all th regressions. This means that we do not observe an existing urban wage premium after controlling for the confounding variables. If we look at regression 1, for example, we see that the cost of living and being male for variable x2, and x3 have significant coefficients. Therefore, cost of living is an important component of the wage premium in China when we take the average price of housing per unit into account. In addition to cost of living, it is consistent across all the six regressions that year of education, occupation type, gender and years of working experience all contribute towards the wage premium. \n",
    "\n",
    "I find that there is a premium for white-collar workers living in the urban areas from regression 6. The coefficient of x9 which is the interaction between white-collar workers and urban workers is positive and significant.  \n"
   ]
  },
  {
   "cell_type": "markdown",
   "metadata": {},
   "source": [
    "### Conclusion"
   ]
  },
  {
   "cell_type": "markdown",
   "metadata": {},
   "source": [
    "Using OLS regression models, I investigate whether there is an urban wage premium in China. The data I use is from the China Health and Nutrition Survey. I account for the cost of living using the average housing price in addition to other observable individual characteristics. In my results, I find that there is no evidence for urban wage premium. Wage premium is entirely caused by other factors such as higher costs of living in urbanized settings, being male, having a white-collar job, having more years of education. I find a negative but not significant urban premium. The urban wage premium is mostly compensated for other factors such as the cost of living. \n",
    "\n",
    "These results should be interpreted with caution. Regional price indexes are hard to find for China, therefore using housing prices can only approximate differences in the overall costs of living between urban and rural areas. As better data become available, better accounting for individual heterogeneity and regional differences in costs of living may be an interesting area of further research. \n"
   ]
  },
  {
   "cell_type": "markdown",
   "metadata": {},
   "source": [
    "### Reference"
   ]
  },
  {
   "cell_type": "markdown",
   "metadata": {},
   "source": [
    "Peng, Shu-hong. (2016). “Urban Scale and Wage Premium,” Contemporary Finance and Economics , 2016, (3). <br>\n",
    "\n",
    "Huang, F. and Wu, C.J. (2008) A Study on Wage Premium of Provincial Capital Cities in China—A Space Econometric Analysis Based on Quantile Regression. Journal of Finance and Economics, 34.\n",
    "\n",
    "This project uses data from China Health and Nutrition Survey (CHNS). We are grateful to research grant funding from the National Institute for Health (NIH), the Eunice Kennedy Shriver National Institute of Child Health and Human Development (NICHD) for R01 HD30880, National Institute of Diabetes and Digestive and Kidney Diseases (NIDDK) for R01DK104371 and R01HL108427, the NIH Fogarty grant D43 TW009077 for financial support for the CHNS data collection and analysis files since 1989, and the China-Japan Friendship Hospital, Ministry of Health for support for CHNS 2009, Chinese National Human Genome Center at Shanghai since 2009, and Beijing Municipal Center for Disease Prevention and Control since 2011. We thank the National Institute for Nutrition and Health, China Center for Disease Control and Prevention, Beijing Municipal Center for Disease Control and Prevention, and the Chinese National Human Genome Center at Shanghai."
   ]
  }
 ],
 "metadata": {
  "kernelspec": {
   "display_name": "Python 3",
   "language": "python",
   "name": "python3"
  },
  "language_info": {
   "codemirror_mode": {
    "name": "ipython",
    "version": 3
   },
   "file_extension": ".py",
   "mimetype": "text/x-python",
   "name": "python",
   "nbconvert_exporter": "python",
   "pygments_lexer": "ipython3",
   "version": "3.8.3"
  }
 },
 "nbformat": 4,
 "nbformat_minor": 4
}
