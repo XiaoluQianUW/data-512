{
 "cells": [
  {
   "cell_type": "markdown",
   "metadata": {},
   "source": [
    "# Data 512 Final Project Proposal \n",
    "Xiaolu Qian <br>11/5/2020"
   ]
  },
  {
   "cell_type": "markdown",
   "metadata": {},
   "source": [
    "### Research Question and hypothesis"
   ]
  },
  {
   "cell_type": "markdown",
   "metadata": {},
   "source": [
    "Main Question: <br>\n",
    "What makes workers in urban area/ provincial capitals makes more money than those living in the rural area / non-provincial capitals? \n",
    "\n",
    "Sub Questions: \n",
    "- Does the urban wage premium only reflect that more able workers choose to live in cities? \n",
    "- Are urban workers having higher wages compensated for the higher cost of living in cities?\n",
    "- Is it actually true that urban areas make workers more productive and lead to higher wages?\n",
    "\n",
    "Hypothesis: <br>\n",
    "After controlling for all potential confounding variables, there still exist urban/provincial capital wage premium which is likely to explain by the agglomeration effect of large cities. "
   ]
  },
  {
   "cell_type": "markdown",
   "metadata": {},
   "source": [
    "### Background/Related Work"
   ]
  },
  {
   "cell_type": "markdown",
   "metadata": {},
   "source": [
    "According to United Nations’ statistics, more than half of the population in the world are living in urban regions, and urbanization keeps spreading throughout the world. Regional opportunity structures attract a lot of investigations of the urban labor market at a micro level. High-income level and fast income growth of workers in populated regions are in contrast with the wage level of workers in the rural area and less dense places. A vast literature studies the urban wage premium, particularly in the U.S. context.\n",
    "\n",
    "China led the global urbanization of the past few decades and according to the World Bank is expected to have 70% of its population living in urban areas by the year 2030. Although China has been going through such a dramatic scale of urbanization, currently there is not a lot of literature on urban wage premium in China. \n",
    "\n",
    "The goal of this project is to investigate China's urban wage premium with a special focus on its provincial capitals. My goal is to determine if there exist urban/provincial capital agglomeration effects in China that contribute to the wage premium accounting for the cost of living and the unobservable ability bias of workers. \n",
    "\n",
    "Wages of workers living in urban areas may differ because people with higher skills self-select to reside in cities(perhaps with a preference for provincial capitals), generating an ability bias in standard OLS regression of wages on the place of residence. My study will build on mainstream explanations for the urban wage premium to investigate the specific case of China's urban wage premium and provincial capital wage premium. Peng(2016) used China’s Comprehensive Social Survey (CGSS) in 2010 and applied an instrumental variable method. To control for ability bias, he instrumented urban location with urban scale data from 10 years ago. He discovered that there exists a significant urban scale wage premium in larger cities with a population of more than 5 million for both high-skilled and low-skilled workers. Huang’s (2008) study focuses on China’s provincial capitals. Without controlling for the cost of living, he finds that there exists about a 14% wage premium in provincial capital cities. He also finds that there is a 7% provincial capital premium for workers because of the agglomeration economic effects using Mundlak-Chamberlain's random-effect model to control for the cost of living. However, he uses the average monthly expenses on childcare in cities to control for the cost of living. Building on his work, I will use the average housing price per unit to account for different levels of costs of living in different locations. "
   ]
  },
  {
   "cell_type": "markdown",
   "metadata": {},
   "source": [
    "### Data selected for analysis"
   ]
  },
  {
   "cell_type": "markdown",
   "metadata": {},
   "source": [
    "I will be using data from the China Health and Nutrition Survey (CHNS) https://www.cpc.unc.edu/projects/china, a nationally representative sample of Chinese population running from 1997 to 2015. While there is a lot of restricted access to Chinese government population statistics, the CHNS covers 15 representative provinces that vary substantially in demography, economics, and public resources. It used a multistage, random cluster process in drawing sample statistics from each province. The overall survey contains about 7,200 households and covers roughly 30,000 individuals with residential location types classified as urban neighborhoods, rural villages, county town neighborhoods, and suburban villages. In urban areas, the provincial capital and a lower income city were selected randomly if possible. In rural areas, counties were stratified by income, and a weighted scheme was used to randomly select four counties within each province. This includes detailed household and individual economic and social information.\n",
    "\n",
    "This survey data is gathered by UNC and is publicly available to be used. According to the survey website, “the survey was conducted by an international team of researchers whose backgrounds include nutrition, public health, economics, sociology, Chinese studies, and demography. The survey took place over a 7-day period using a multistage, random cluster process to draw a sample of about 7,200 households with over 30,000 individuals in 15 provinces and municipal cities that vary substantially in geography, economic development, public resources, and health indicators. In addition, detailed community data were collected in surveys of food markets, health facilities, family planning officials, and other social services and community leaders.” There is no need to worry about the ethical considerations to use this dataset.\n"
   ]
  },
  {
   "cell_type": "markdown",
   "metadata": {},
   "source": [
    "### Methodology"
   ]
  },
  {
   "cell_type": "markdown",
   "metadata": {},
   "source": [
    "- OLS <br>\n",
    "To establish a point of reference, I will start my analysis by running a standard mincerian regression using OLS. OLS is a powerful tool that will help us understand the correlation/ causality between wage and all the confounding variables. OLS is also used a lot in other researches related to this topic. \n",
    "\n",
    "\n",
    "- Propensity Score Matching <br>\n",
    "If time allows I will use PSM method. One of the concerns of using OLS model to estimate the urban wage premium and provincial capital wage premium is that workers’ location choice is not random. It is very possible that people choose to work in urban areas or provincial capitals for some unobservable characteristics, thus casual interference cannot be made. If people with higher ability are more likely to choose to work in an urban or provincial capital setting, I would be overestimating the agglomeration economic effect that contributes to the wage premium. Propensity score matching helps us create a better random sampling of the treatment and control group."
   ]
  },
  {
   "cell_type": "markdown",
   "metadata": {},
   "source": [
    "### Unknowns and dependencies\n"
   ]
  },
  {
   "cell_type": "markdown",
   "metadata": {},
   "source": [
    "There might be potential difficulties to find the right method to find the casual relationship of urban wage premium. Even though follow-up levels in this dataset are high, families that migrate from one community to a new one are not recorded as movers exit the sample. The CHNS does not provide the floating population information since it stopped keeping track of people once they moved. Conducting an OLS regression model by controlling for different characteristics that might cause biases would also give a good prediction for the urban wage premium in provincial capitals in China.\n"
   ]
  },
  {
   "cell_type": "markdown",
   "metadata": {},
   "source": [
    "### Reference"
   ]
  },
  {
   "cell_type": "markdown",
   "metadata": {},
   "source": [
    "Peng, Shu-hong. (2016). “Urban Scale and Wage Premium,” Contemporary Finance and Economics , 2016, (3). <br>\n",
    "\n",
    "Huang, F. and Wu, C.J. (2008) A Study on Wage Premium of Provincial Capital Cities in China—A Space Econometric Analysis Based on Quantile Regression. Journal of Finance and Economics, 34."
   ]
  }
 ],
 "metadata": {
  "kernelspec": {
   "display_name": "Python 3",
   "language": "python",
   "name": "python3"
  },
  "language_info": {
   "codemirror_mode": {
    "name": "ipython",
    "version": 3
   },
   "file_extension": ".py",
   "mimetype": "text/x-python",
   "name": "python",
   "nbconvert_exporter": "python",
   "pygments_lexer": "ipython3",
   "version": "3.8.3"
  }
 },
 "nbformat": 4,
 "nbformat_minor": 4
}
