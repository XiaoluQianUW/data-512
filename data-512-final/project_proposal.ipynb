{
 "cells": [
  {
   "cell_type": "markdown",
   "metadata": {},
   "source": [
    "# Data 512 Final Project Proposal \n",
    "Xiaolu Qian <br>11/5/2020"
   ]
  },
  {
   "cell_type": "markdown",
   "metadata": {},
   "source": [
    "### Motivation and problem statement"
   ]
  },
  {
   "cell_type": "markdown",
   "metadata": {},
   "source": [
    "According to United Nations’ statistics, more than half of the population in the world are living in urban regions, and urbanization keeps spreading throughout the world. Regional opportunity structures attract a lot of investigations of the urban labor market at a micro level. High-income level and fast income growth of workers in populated regions are in contrast with the wage level of workers in the rural area and less dense places. A vast literature studies the urban wage premium, particularly in the U.S. context.\n",
    "\n",
    "China led the global urbanization of the past few decades and according to the World Bank is expected to have 70% of its population living in urban areas by the year 2030. Although China has been going through such a dramatic scale of urbanization, currently there is not a lot of literature on urban wage premium in China. \n",
    "\n",
    "The goal of this project is to investigate China's urban wage premium with a special focus on its provincial capitals. My goal is to determine if there exist urban/provincial capital agglomeration effects in China that contribute to the wage premium accounting for the cost of living and the unobservable ability bias of workers. I also want to see the wage gap between male and female in the urban, rural setting. \n"
   ]
  },
  {
   "cell_type": "markdown",
   "metadata": {},
   "source": [
    "### Data selected for analysis"
   ]
  },
  {
   "cell_type": "markdown",
   "metadata": {},
   "source": [
    "I will be using data from the China Health and Nutrition Survey (CHNS) https://www.cpc.unc.edu/projects/china, a nationally representative sample of Chinese population running from 1997 to 2015. While there is a lot of restricted access to Chinese government population statistics, the CHNS covers 15 representative provinces that vary substantially in demography, economics, and public resources. It used a multistage, random cluster process in drawing sample statistics from each province. The overall survey contains about 7,200 households and covers roughly 30,000 individuals with residential location types classified as urban neighborhoods, rural villages, county town neighborhoods, and suburban villages. In urban areas, the provincial capital and a lower income city were selected randomly if possible. In rural areas, counties were stratified by income, and a weighted scheme was used to randomly select four counties within each province. This includes detailed household and individual economic and social information.\n",
    "\n",
    "This survey data is gathered by UNC and is publicly available to be used. According to the survey website, “the survey was conducted by an international team of researchers whose backgrounds include nutrition, public health, economics, sociology, Chinese studies, and demography. The survey took place over a 7-day period using a multistage, random cluster process to draw a sample of about 7,200 households with over 30,000 individuals in 15 provinces and municipal cities that vary substantially in geography, economic development, public resources, and health indicators. In addition, detailed community data were collected in surveys of food markets, health facilities, family planning officials, and other social services and community leaders.” There is no need to worry about the ethical considerations to use this dataset.\n"
   ]
  },
  {
   "cell_type": "markdown",
   "metadata": {},
   "source": [
    "### Unknowns and dependencies\n"
   ]
  },
  {
   "cell_type": "markdown",
   "metadata": {},
   "source": [
    "There might be potential difficulties to find the right method to find the casual relationship of urban wage premium. Even though follow-up levels in this dataset are high, families that migrate from one community to a new one are not recorded as movers exit the sample. The CHNS does not provide the floating population information since it stopped keeping track of people once they moved. Conducting an OLS regression model by controlling for different characteristics that might cause biases would also give a good prediction for the urban wage premium in provincial capitals in China.\n"
   ]
  }
 ],
 "metadata": {
  "kernelspec": {
   "display_name": "Python 3",
   "language": "python",
   "name": "python3"
  },
  "language_info": {
   "codemirror_mode": {
    "name": "ipython",
    "version": 3
   },
   "file_extension": ".py",
   "mimetype": "text/x-python",
   "name": "python",
   "nbconvert_exporter": "python",
   "pygments_lexer": "ipython3",
   "version": "3.8.3"
  }
 },
 "nbformat": 4,
 "nbformat_minor": 4
}
